{
 "cells": [
  {
   "cell_type": "markdown",
   "id": "ef4b23f7-bde9-469d-a954-eb1e44447337",
   "metadata": {},
   "source": [
    "Let's start by defining the configuration a small GPT2 model..."
   ]
  },
  {
   "cell_type": "code",
   "execution_count": null,
   "id": "36eae06e-9cdd-4f66-8385-6b94e0dc00b8",
   "metadata": {},
   "outputs": [],
   "source": [
    "GPT_CONFIG_124M = {\n",
    "    \"vocab_size\": 50257,\n",
    "    \"context_length\": 1024,\n",
    "    \"emb_dim\": 768,\n",
    "    \"n_heads\": 12, # attention heads\n",
    "    \"n_layers\": 12, # transformer layers\n",
    "    \"drop_rate\": 0.1,\n",
    "    \"qkv_bias\": False,\n",
    "}"
   ]
  },
  {
   "cell_type": "markdown",
   "id": "ca2ead86-4f5c-4623-b7d0-044078f1409f",
   "metadata": {},
   "source": [
    "Now we'll build a skeleton for the GPT model."
   ]
  },
  {
   "cell_type": "code",
   "execution_count": null,
   "id": "d34a689b-e79c-4be7-bcc2-af90b2d41619",
   "metadata": {},
   "outputs": [],
   "source": [
    "import torch\n",
    "import torch.nn as nn\n",
    "\n",
    "class DummyGPTModel(nn.Module):\n",
    "    def __init__(self, cfg):\n",
    "        super().__init__()\n",
    "        self.tok_emb = nn.Embedding(cfg[\"vocab_size\"], cfg[\"emb_dim\"])\n",
    "        self.pos_emb = nn.Embedding(cfg[\"context_length\"], cfg[\"emb_dim\"])\n",
    "        self.drop_emb = nn.Dropout(cfg[\"drop_rate\"])\n",
    "        self.trf_blocks = nn.Sequential(*[DummyTransformerBlock(cfg)\n",
    "                                          for _ in range(cfg[\"n_layers\"])])\n",
    "        self.final_norm = DummyLayerNorm(cfg[\"emb_dim\"])\n",
    "        self.out_head = nn.Linear(cfg[\"emb_dim\"], cfg[\"vocab_size\"], bias=False)\n",
    "\n",
    "    def forward(self, in_idx):\n",
    "        # seq_len == context_len, right?\n",
    "        batch_size, seq_len = in_idx.shape\n",
    "\n",
    "        # 1. embed\n",
    "        tok_embeds = self.tok_emb(in_idx)\n",
    "        pos_embeds = self.pos_emb(\n",
    "            torch.arange(seq_len, device=in_idx.device)\n",
    "        )\n",
    "        x = tok_embeds + pos_embeds\n",
    "        x = self.drop_emb(x)\n",
    "\n",
    "        # 2. transformer blocks\n",
    "        x = self.trf_blocks(x)\n",
    "\n",
    "        # 3. output layers\n",
    "        x = self.final_norm(x)\n",
    "        logits = self.out_head(x)\n",
    "        return logits\n",
    "\n",
    "class DummyTransformerBlock(nn.Module):\n",
    "    def __init__(self, cfg):\n",
    "        super().__init__()\n",
    "\n",
    "    def forward(self, x):\n",
    "        return x\n",
    "\n",
    "class DummyLayerNorm(nn.Module):\n",
    "    def __init__(self, normalized_shape, eps=1e-5):\n",
    "        super().__init__()\n",
    "\n",
    "    def forward(self, x):\n",
    "        return x"
   ]
  },
  {
   "cell_type": "markdown",
   "id": "b589d920-5c10-4b2b-8967-84aaa67fd323",
   "metadata": {},
   "source": [
    "Ok, we're wiring up everything! So we need to tokenize input such that it can be passed into the GPT model."
   ]
  },
  {
   "cell_type": "code",
   "execution_count": 3,
   "id": "dbebe3f8-8264-48e8-8dc9-07112acb9332",
   "metadata": {},
   "outputs": [
    {
     "name": "stdout",
     "output_type": "stream",
     "text": [
      "list of tensors:\n",
      "[tensor([6109, 3626, 6100,  345]), tensor([6109, 1110, 6622,  257])]\n",
      "stacked:\n",
      "tensor([[6109, 3626, 6100,  345],\n",
      "        [6109, 1110, 6622,  257]])\n"
     ]
    }
   ],
   "source": [
    "import tiktoken\n",
    "\n",
    "tokenizer = tiktoken.get_encoding(\"gpt2\")\n",
    "batch = []\n",
    "txt1 = \"Every effort moves you\"\n",
    "txt2 = \"Every day holds a\"\n",
    "\n",
    "batch.append(torch.tensor(tokenizer.encode(txt1)))\n",
    "batch.append(torch.tensor(tokenizer.encode(txt2)))\n",
    "print(\"list of tensors:\")\n",
    "print(batch)\n",
    "\n",
    "print(\"stacked:\")\n",
    "batch = torch.stack(batch, dim=0)\n",
    "print(batch)"
   ]
  },
  {
   "cell_type": "code",
   "execution_count": 4,
   "id": "e28d5f07-8169-40cf-8f21-cc2446d3b4e7",
   "metadata": {},
   "outputs": [
    {
     "name": "stdout",
     "output_type": "stream",
     "text": [
      "output logits.shape torch.Size([2, 4, 50257])\n",
      "tensor([[[-1.2034,  0.3201, -0.7130,  ..., -1.5548, -0.2390, -0.4667],\n",
      "         [-0.1192,  0.4539, -0.4432,  ...,  0.2392,  1.3469,  1.2430],\n",
      "         [ 0.5307,  1.6720, -0.4695,  ...,  1.1966,  0.0111,  0.5835],\n",
      "         [ 0.0139,  1.6754, -0.3388,  ...,  1.1586, -0.0435, -1.0400]],\n",
      "\n",
      "        [[-1.0908,  0.1798, -0.9484,  ..., -1.6047,  0.2439, -0.4530],\n",
      "         [-0.7860,  0.5581, -0.0610,  ...,  0.4835, -0.0077,  1.6621],\n",
      "         [ 0.3567,  1.2698, -0.6398,  ..., -0.0162, -0.1296,  0.3717],\n",
      "         [-0.2407, -0.7349, -0.5102,  ...,  2.0057, -0.3694,  0.1814]]],\n",
      "       grad_fn=<UnsafeViewBackward0>)\n"
     ]
    }
   ],
   "source": [
    "torch.manual_seed(123)\n",
    "model = DummyGPTModel(GPT_CONFIG_124M)\n",
    "logits = model(batch)\n",
    "print(\"output logits.shape\", logits.shape)\n",
    "print(logits)"
   ]
  },
  {
   "cell_type": "markdown",
   "id": "69899909-ec02-4688-99b8-18efd57ad329",
   "metadata": {},
   "source": [
    "### Layer Normalization\n",
    "\n",
    "Let's explore the behavior of layer normalization, then add it to our GPT model."
   ]
  },
  {
   "cell_type": "code",
   "execution_count": 5,
   "id": "99b23ecc-8c52-4d8a-aa61-52f1601440cf",
   "metadata": {},
   "outputs": [
    {
     "name": "stdout",
     "output_type": "stream",
     "text": [
      "batch_example:\n",
      " tensor([[-0.1115,  0.1204, -0.3696, -0.2404, -1.1969],\n",
      "        [ 0.2093, -0.9724, -0.7550,  0.3239, -0.1085]])\n",
      "out:\n",
      " tensor([[0.2260, 0.3470, 0.0000, 0.2216, 0.0000, 0.0000],\n",
      "        [0.2133, 0.2394, 0.0000, 0.5198, 0.3297, 0.0000]],\n",
      "       grad_fn=<ReluBackward0>)\n"
     ]
    }
   ],
   "source": [
    "torch.manual_seed(123)\n",
    "batch_example = torch.randn(2,5)\n",
    "print(\"batch_example:\\n\", batch_example)\n",
    "layer = nn.Sequential(nn.Linear(5,6), nn.ReLU())\n",
    "out = layer(batch_example)\n",
    "print(\"out:\\n\", out)"
   ]
  },
  {
   "cell_type": "code",
   "execution_count": 6,
   "id": "f7e9bcf1-a1d2-4fa1-b706-31387f298526",
   "metadata": {},
   "outputs": [
    {
     "name": "stdout",
     "output_type": "stream",
     "text": [
      "Mean:\n",
      " tensor([[0.1324],\n",
      "        [0.2170]], grad_fn=<MeanBackward1>)\n",
      "Variance:\n",
      " tensor([[0.0231],\n",
      "        [0.0398]], grad_fn=<VarBackward0>)\n"
     ]
    }
   ],
   "source": [
    "mean = out.mean(dim=-1, keepdim=True)\n",
    "print(\"Mean:\\n\", mean)\n",
    "var = out.var(dim=-1, keepdim=True)\n",
    "print(\"Variance:\\n\", var)"
   ]
  },
  {
   "cell_type": "code",
   "execution_count": 7,
   "id": "40afb353-82b5-4345-8e64-ed6f87bd3397",
   "metadata": {},
   "outputs": [
    {
     "name": "stdout",
     "output_type": "stream",
     "text": [
      "Mean:\n",
      " tensor([[-5.9605e-08],\n",
      "        [ 1.9868e-08]], grad_fn=<MeanBackward1>)\n",
      "Variance:\n",
      " tensor([[1.0000],\n",
      "        [1.0000]], grad_fn=<VarBackward0>)\n"
     ]
    }
   ],
   "source": [
    "out_norm = (out-mean) / torch.sqrt(var)\n",
    "mean = out_norm.mean(dim=-1, keepdim=True)\n",
    "var = out_norm.var(dim=-1, keepdim=True)\n",
    "print(\"Mean:\\n\", mean)\n",
    "print(\"Variance:\\n\", var)"
   ]
  },
  {
   "cell_type": "code",
   "execution_count": 8,
   "id": "5aae5645-dcdf-4ede-b030-e149d3a37e8e",
   "metadata": {},
   "outputs": [
    {
     "name": "stdout",
     "output_type": "stream",
     "text": [
      "Mean:\n",
      " tensor([[    -0.0000],\n",
      "        [     0.0000]], grad_fn=<MeanBackward1>)\n",
      "Variance:\n",
      " tensor([[1.0000],\n",
      "        [1.0000]], grad_fn=<VarBackward0>)\n"
     ]
    }
   ],
   "source": [
    "torch.set_printoptions(sci_mode=False)\n",
    "print(\"Mean:\\n\", mean)\n",
    "print(\"Variance:\\n\", var)"
   ]
  },
  {
   "cell_type": "markdown",
   "id": "7f3e8176-2d5c-4b9d-b861-14b936738d97",
   "metadata": {},
   "source": [
    "So the basic idea was:\n",
    "1. subtract the mean from each item -> gets us to mean of 0\n",
    "2. divide by the std dev -> gets us to variance of 1\n",
    "\n",
    "Let's now encode this as a reusable class. We'll also add some trainable weights for `shift` and `scale`."
   ]
  },
  {
   "cell_type": "code",
   "execution_count": null,
   "id": "3410ff78-3c7d-452f-9469-fccbb1d19489",
   "metadata": {},
   "outputs": [],
   "source": [
    "class LayerNorm(nn.Module):\n",
    "    def __init__(self, emb_dim):\n",
    "        super().__init__()\n",
    "        self.eps = 1e-5\n",
    "        self.scale = nn.Parameter(torch.ones(emb_dim)) # 1 is mult identity\n",
    "        self.shift = nn.Parameter(torch.zeros(emb_dim)) # 0 is add identity\n",
    "\n",
    "    def forward(self, x):\n",
    "        # (1) normalize\n",
    "        mean = x.mean(dim=-1, keepdim=True)\n",
    "        # NOTE: unbiased=False mirrors GPT2 implementation,\n",
    "        # which was in Tensorflow where that's the default\n",
    "        var = x.var(dim=-1, keepdim=True, unbiased = False)\n",
    "        # NOTE: We include eps as a small constant to prevent division by zero\n",
    "        norm_x = (x-mean) / torch.sqrt(var + self.eps)\n",
    "\n",
    "        # (2) shift and scale\n",
    "        return self.scale * norm_x + self.shift"
   ]
  },
  {
   "cell_type": "markdown",
   "id": "c7d63cdd-b2d4-4146-a19a-acef29aa9c77",
   "metadata": {},
   "source": [
    "Let's try out LayerNorm usage"
   ]
  },
  {
   "cell_type": "code",
   "execution_count": 10,
   "id": "c24a1727-c83b-450d-8291-19aeb7990248",
   "metadata": {},
   "outputs": [
    {
     "name": "stdout",
     "output_type": "stream",
     "text": [
      "Mean:\n",
      " tensor([[    -0.0000],\n",
      "        [     0.0000]], grad_fn=<MeanBackward1>)\n",
      "Variance:\n",
      " tensor([[1.0000],\n",
      "        [1.0000]], grad_fn=<VarBackward0>)\n"
     ]
    }
   ],
   "source": [
    "ln = LayerNorm(emb_dim=5)\n",
    "out_ln = ln(batch_example)\n",
    "mean = out_ln.mean(dim=-1, keepdim=True)\n",
    "var = out_ln.var(dim=-1, unbiased=False, keepdim=True)\n",
    "print(\"Mean:\\n\", mean)\n",
    "print(\"Variance:\\n\", var)"
   ]
  },
  {
   "cell_type": "markdown",
   "id": "d9abf145-12fa-41c7-88cc-2d0ea4b1fc3e",
   "metadata": {},
   "source": [
    "### GELU"
   ]
  },
  {
   "cell_type": "markdown",
   "id": "31550fde-273d-4ae3-837d-19ea67e0b686",
   "metadata": {},
   "source": [
    "OK! Let's now implement GELU, which will be used within the FeedForward module."
   ]
  },
  {
   "cell_type": "markdown",
   "id": "917f9666-7006-47b1-9342-8e861cf17e80",
   "metadata": {},
   "source": [
    "$$\n",
    "GELU(x) \\approx 0.5 \\cdot x \\cdot \\left(1 + tanh\\left[\\sqrt{\\frac{2}{\\pi}} \\cdot (x + 0.044715 \\cdot x^3)\\right]\\right)\n",
    "$$"
   ]
  },
  {
   "cell_type": "code",
   "execution_count": 11,
   "id": "46e866f5-4a9a-4ea6-ac21-89c825ad98b5",
   "metadata": {},
   "outputs": [],
   "source": [
    "class GELU(nn.Module):\n",
    "    def __init__(self):\n",
    "        super().__init__()\n",
    "\n",
    "    def forward(self, x):\n",
    "        return 0.5 * x * (1 + torch.tanh(\n",
    "            torch.sqrt(torch.tensor(2.0 / torch.pi)) *\n",
    "            (x + 0.044715 * torch.pow(x, 3))\n",
    "        ))"
   ]
  },
  {
   "cell_type": "markdown",
   "id": "88bd28fd-381b-400c-8053-705a1cd5ce98",
   "metadata": {},
   "source": [
    "To get more intuition into GELU (Gaussian error linear unit), let's plot it side by side with ReLU (Rectified Linear Unit)"
   ]
  },
  {
   "cell_type": "code",
   "execution_count": null,
   "id": "a5178182-87d4-41dd-833d-e4dea043a1a1",
   "metadata": {},
   "outputs": [],
   "source": [
    "import matplotlib.pyplot as plt\n",
    "gelu, relu = GELU(), nn.ReLU()"
   ]
  },
  {
   "cell_type": "code",
   "execution_count": 13,
   "id": "034c399f-aaa1-4f1c-9cbf-404cefc6904e",
   "metadata": {},
   "outputs": [
    {
     "data": {
      "image/png": "[encoded data removed]",
      "text/plain": [
       "<Figure size 800x300 with 2 Axes>"
      ]
     },
     "metadata": {},
     "output_type": "display_data"
    }
   ],
   "source": [
    "x = torch.linspace(-3, 3, 100) # samples 100 data pts in range -3 to 3\n",
    "y_gelu, y_relu = gelu(x), relu(x)\n",
    "plt.figure(figsize=(8,3))\n",
    "for i, (y, label) in enumerate(zip([y_gelu, y_relu], [\"GELU\", \"ReLU\"]), 1):\n",
    "    plt.subplot(1,2,i)\n",
    "    plt.plot(x, y)\n",
    "    plt.title(f\"{label} activiation function\")\n",
    "    plt.xlabel(\"x\")\n",
    "    plt.ylabel(f\"{label}(x)\")\n",
    "    plt.grid(True)\n",
    "plt.tight_layout()\n",
    "plt.show()"
   ]
  },
  {
   "cell_type": "markdown",
   "id": "1b4e181b-9048-43aa-9c00-80332a3e0875",
   "metadata": {},
   "source": [
    "GELU \n",
    "- is smooth, which can lead to better optimization during training. \n",
    "- has a non-zero gradient everywhere except approx `-0.75`.\n",
    "- has non-zero values for `x<0`, which means it can still play a small role in learning\n",
    "\n",
    "ReLU has a sharp corner at zero, which can sometimes make optimization harder.\n"
   ]
  },
  {
   "cell_type": "markdown",
   "id": "bb794574-542e-46fc-b708-b50fc90400e3",
   "metadata": {},
   "source": [
    "### Feed Forward"
   ]
  },
  {
   "cell_type": "code",
   "execution_count": null,
   "id": "21c6da46-3000-484e-babf-d6efea4db441",
   "metadata": {},
   "outputs": [],
   "source": [
    "# TODO: Refactor so it takes actual args intead of cfg\n",
    "# This would be consistent with our other modules\n",
    "# and keeps untyped cfg dict at outermost interface, only\n",
    "class FeedForward(nn.Module):\n",
    "    def __init__(self, cfg):\n",
    "        super().__init__()\n",
    "        self.layers = nn.Sequential(\n",
    "            nn.Linear(cfg[\"emb_dim\"], 4 * cfg[\"emb_dim\"]),\n",
    "            GELU(),\n",
    "            nn.Linear(4 * cfg[\"emb_dim\"], cfg[\"emb_dim\"]),\n",
    "        )\n",
    "\n",
    "    def forward(self, x):\n",
    "        return self.layers(x)"
   ]
  },
  {
   "cell_type": "code",
   "execution_count": 15,
   "id": "b62cfb1c-013a-4419-b99e-2dc1003588cc",
   "metadata": {},
   "outputs": [
    {
     "name": "stdout",
     "output_type": "stream",
     "text": [
      "torch.Size([2, 3, 768])\n"
     ]
    }
   ],
   "source": [
    "ffn = FeedForward(GPT_CONFIG_124M)\n",
    "samples = 2 # batch size\n",
    "tokens = 3\n",
    "x = torch.rand(samples, tokens, GPT_CONFIG_124M[\"emb_dim\"])\n",
    "out = ffn(x)\n",
    "print(out.shape)"
   ]
  },
  {
   "cell_type": "markdown",
   "id": "f269951d-cac6-4271-9257-0e6a7dfa199c",
   "metadata": {},
   "source": [
    "### Shortcut connections"
   ]
  },
  {
   "cell_type": "markdown",
   "id": "f426e52a-7f02-42cb-ad83-90b4cefd8dbe",
   "metadata": {},
   "source": [
    "Let's first build a simple DNN with shortcut connections"
   ]
  },
  {
   "cell_type": "code",
   "execution_count": null,
   "id": "d1d424f9-3fc9-4d47-b0b1-4220c2c0a08b",
   "metadata": {},
   "outputs": [],
   "source": [
    "class ExampleDNN(nn.Module):\n",
    "    def __init__(self, layer_size: list[int], use_shortcut: bool):\n",
    "        super().__init__()\n",
    "        self.use_shortcut = use_shortcut\n",
    "        self.layers = nn.ModuleList([\n",
    "            nn.Sequential(nn.Linear(layer_sizes[0], layer_sizes[1]), GELU()),\n",
    "            nn.Sequential(nn.Linear(layer_sizes[1], layer_sizes[2]), GELU()),\n",
    "            nn.Sequential(nn.Linear(layer_sizes[2], layer_sizes[3]), GELU()),\n",
    "            nn.Sequential(nn.Linear(layer_sizes[3], layer_sizes[4]), GELU()),\n",
    "            nn.Sequential(nn.Linear(layer_sizes[4], layer_sizes[5]), GELU()),\n",
    "        ])\n",
    "\n",
    "    def forward(self, x):\n",
    "        for layer in self.layers:\n",
    "            out = layer(x)\n",
    "            # if enabled AND applicable\n",
    "            if self.use_shortcut and x.shape == out.shape:\n",
    "                x = x + out\n",
    "            else:\n",
    "                x = out\n",
    "        return x\n"
   ]
  },
  {
   "cell_type": "code",
   "execution_count": 17,
   "id": "fda6a45c-b1ec-49f6-8016-63226c84f7c3",
   "metadata": {},
   "outputs": [],
   "source": [
    "layer_sizes = [3,3,3,3,3,1]\n",
    "sample_input = torch.tensor([[1., 0., -1.]])\n",
    "torch.manual_seed(123)\n",
    "model_without_shortcut = ExampleDNN(layer_sizes, False)"
   ]
  },
  {
   "cell_type": "code",
   "execution_count": null,
   "id": "0ca10826-ce2e-432b-a63b-b4383e13331f",
   "metadata": {},
   "outputs": [],
   "source": [
    "def print_gradients(model, x):\n",
    "    output = model(x) # forward pass\n",
    "    target = torch.tensor([[0.]])\n",
    "\n",
    "    loss = nn.MSELoss()\n",
    "    loss = loss(output, target) # compute loss\n",
    "\n",
    "    loss.backward() # backward pass, to calculate gradients\n",
    "\n",
    "    for name, param in model.named_parameters():\n",
    "        if 'weight' in name:\n",
    "            print(f\"{name} has gradient mean of {param.grad.abs().mean().item()}\")"
   ]
  },
  {
   "cell_type": "code",
   "execution_count": 19,
   "id": "c322283e-0569-4f64-8825-0b8628bbc695",
   "metadata": {},
   "outputs": [
    {
     "name": "stdout",
     "output_type": "stream",
     "text": [
      "layers.0.0.weight has gradient mean of 0.00020173587836325169\n",
      "layers.1.0.weight has gradient mean of 0.0001201116101583466\n",
      "layers.2.0.weight has gradient mean of 0.0007152041071094573\n",
      "layers.3.0.weight has gradient mean of 0.0013988735154271126\n",
      "layers.4.0.weight has gradient mean of 0.005049645435065031\n"
     ]
    }
   ],
   "source": [
    "print_gradients(model_without_shortcut, sample_input)"
   ]
  },
  {
   "cell_type": "code",
   "execution_count": 20,
   "id": "7aa00b8b-dc35-4ef3-b921-ee0d627d5027",
   "metadata": {},
   "outputs": [
    {
     "name": "stdout",
     "output_type": "stream",
     "text": [
      "layers.0.0.weight has gradient mean of 0.22169791162014008\n",
      "layers.1.0.weight has gradient mean of 0.20694106817245483\n",
      "layers.2.0.weight has gradient mean of 0.32896995544433594\n",
      "layers.3.0.weight has gradient mean of 0.2665732204914093\n",
      "layers.4.0.weight has gradient mean of 1.3258540630340576\n"
     ]
    }
   ],
   "source": [
    "torch.manual_seed(123)\n",
    "model_with_shortcut = ExampleDNN(layer_sizes, use_shortcut=True)\n",
    "print_gradients(model_with_shortcut, sample_input)"
   ]
  },
  {
   "cell_type": "markdown",
   "id": "12cca086-579c-4d1d-9c29-8738ad8a84c3",
   "metadata": {},
   "source": [
    "### Transformer Block"
   ]
  },
  {
   "cell_type": "code",
   "execution_count": null,
   "id": "e425f510-63ff-4764-bb89-913ee8283f0e",
   "metadata": {},
   "outputs": [],
   "source": [
    "## copied from Ch3\n",
    "class MultiHeadAttention(nn.Module):\n",
    "    def __init__(self, d_in, d_out, context_length, dropout: float, num_heads, qkv_bias=False):\n",
    "        super().__init__()\n",
    "        assert (d_out % num_heads == 0), \\\n",
    "            f\"d_out ({d_out}) must be divisible by num_heads ({num_heads})\"\n",
    "\n",
    "        self.d_out = d_out\n",
    "        self.num_heads = num_heads\n",
    "        self.head_dim = d_out // num_heads\n",
    "\n",
    "        self.W_query = nn.Linear(d_in, d_out, bias=qkv_bias)\n",
    "        self.W_key = nn.Linear(d_in, d_out, bias=qkv_bias)\n",
    "        self.W_value = nn.Linear(d_in, d_out, bias=qkv_bias)\n",
    "\n",
    "        self.out_proj = nn.Linear(d_out, d_out) # Linear layer to combine head outputs\n",
    "\n",
    "        self.dropout = nn.Dropout(dropout)\n",
    "        self.register_buffer(\"mask\", torch.triu(torch.ones(context_length, context_length), diagonal=1))\n",
    "\n",
    "    def forward(self, x):\n",
    "        # b is number inputs in a batch\n",
    "        b, num_tokens, d_in = x.shape\n",
    "\n",
    "        # after multiplying by weights, the shape of these is:\n",
    "        # (b, num_tokens, d_out)\n",
    "        queries = self.W_query(x)\n",
    "        keys = self.W_key(x)\n",
    "        values = self.W_value(x)\n",
    "\n",
    "        # view() aka \"reshape\"\n",
    "        # We can think of this as breaking up the single matrix into multiple, one per head (num_heads)\n",
    "        # recall that `d_out = num_heads * head_dim`\n",
    "        # after running view(), the new dimensions are: (b, num_tokens, num_heads, head_dim)\n",
    "        queries = queries.view(b, num_tokens, self.num_heads, self.head_dim)\n",
    "        keys = keys.view(b, num_tokens, self.num_heads, self.head_dim)\n",
    "        values = values.view(b, num_tokens, self.num_heads, self.head_dim)\n",
    "\n",
    "        # transpose results in shape\n",
    "        # before: (b, num_tokens, num_heads, head_dim)\n",
    "        #                 ->\n",
    "        # after:  (b, num_heads, num_tokens, head_dim)\n",
    "        queries = queries.transpose(1,2)\n",
    "        keys = keys.transpose(1,2)\n",
    "        values = values.transpose(1,2)\n",
    "\n",
    "        # 1st, we called .T\n",
    "        # 2nd, we called .transpose(1,2) to handle batches (idx=0)\n",
    "        # now, we call   .transpose(2,3) to handle batches (idx=0) with multiple heads (idx=1)\n",
    "        attn_scores = queries @ keys.transpose(2,3)\n",
    "\n",
    "        # apply mask for causal attention\n",
    "        mask_bool = self.mask.bool()[:num_tokens, :num_tokens]\n",
    "        attn_scores.masked_fill_(mask_bool, -torch.inf)\n",
    "\n",
    "        # normalize\n",
    "        d_k = keys.shape[-1]\n",
    "        attn_weights = torch.softmax(attn_scores / d_k**0.5, dim=-1)\n",
    "\n",
    "        # dropout\n",
    "        attn_weights = self.dropout(attn_weights)\n",
    "\n",
    "        # compute context vector\n",
    "        #\n",
    "        # we transpose to convert from:\n",
    "        # before: (b, num_heads, num_tokens, head_dim)\n",
    "        #     ->\n",
    "        # after: (b, num_tokens, n_heads, head_dim)\n",
    "        context_vec = (attn_weights @ values).transpose(1,2)\n",
    "\n",
    "        # combine the heads\n",
    "        # before: (b, num_heads, num_tokens, head_dim)\n",
    "        #     ->\n",
    "        # after: (b, num_tokens, d_out)\n",
    "        #                        d_out = num_tokens * head_dim\n",
    "        context_vec = context_vec.contiguous().view(b, num_tokens, self.d_out)\n",
    "\n",
    "        # combine the heads through a linear layer\n",
    "        # this is considered optional... why?\n",
    "        # TODO: appendix B for more details\n",
    "        context_vec = self.out_proj(context_vec)\n",
    "\n",
    "        return context_vec"
   ]
  },
  {
   "cell_type": "code",
   "execution_count": null,
   "id": "e8fbd1b7-007c-469c-b7eb-20fdc310e0ae",
   "metadata": {},
   "outputs": [],
   "source": [
    "class TransformerBlock(nn.Module):\n",
    "    def __init__(self, cfg):\n",
    "        super().__init__()\n",
    "\n",
    "        self.layer_norm_1 = LayerNorm(cfg[\"emb_dim\"])\n",
    "        self.mha = MultiHeadAttention(\n",
    "            d_in=cfg[\"emb_dim\"],\n",
    "            d_out=cfg[\"emb_dim\"],\n",
    "            context_length=cfg[\"context_length\"],\n",
    "            num_heads=cfg[\"n_heads\"],\n",
    "            dropout=cfg[\"drop_rate\"],\n",
    "            qkv_bias=cfg[\"qkv_bias\"],\n",
    "        )\n",
    "        self.dropout_1 = nn.Dropout(cfg[\"drop_rate\"])\n",
    "\n",
    "        self.layer_norm_2 = LayerNorm(cfg[\"emb_dim\"])\n",
    "        self.ff = FeedForward(cfg)\n",
    "        self.dropout_2 = nn.Dropout(cfg[\"drop_rate\"])\n",
    "\n",
    "    def forward(self, x):\n",
    "        shortcut1 = x\n",
    "        x = self.layer_norm_1(x)\n",
    "        x = self.mha(x)\n",
    "        x = self.dropout_1(x)\n",
    "        x = x + shortcut1\n",
    "\n",
    "        shortcut2 = x\n",
    "        x = self.layer_norm_1(x)\n",
    "        x = self.ff(x)\n",
    "        x = self.dropout_2(x)\n",
    "        x = x + shortcut2\n",
    "\n",
    "        return x"
   ]
  },
  {
   "cell_type": "code",
   "execution_count": null,
   "id": "a2188d3f-5b1c-451b-9622-1ba123c25cde",
   "metadata": {},
   "outputs": [
    {
     "name": "stdout",
     "output_type": "stream",
     "text": [
      "Input shape torch.Size([2, 4, 768])\n",
      "Output shape torch.Size([2, 4, 768])\n"
     ]
    }
   ],
   "source": [
    "torch.manual_seed(123)\n",
    "x = torch.rand(2, 4, 768)\n",
    "tf_block = TransformerBlock(GPT_CONFIG_124M)\n",
    "output = tf_block(x)\n",
    "\n",
    "print(\"Input shape\", x.shape)\n",
    "print(\"Output shape\", output.shape)"
   ]
  },
  {
   "cell_type": "code",
   "execution_count": null,
   "id": "7f05df63-7f41-4293-8b0d-e7245420d5b9",
   "metadata": {},
   "outputs": [],
   "source": [
    "class GPTModel(nn.Module):\n",
    "    def __init__(self, cfg: dict):\n",
    "        super().__init__()\n",
    "\n",
    "        ## (1) Input -> Embeddings ##\n",
    "        # token embedding\n",
    "        self.token_emb = nn.Embedding(cfg[\"vocab_size\"], cfg[\"emb_dim\"])\n",
    "        # positional embedding\n",
    "        self.pos_emb = nn.Embedding(cfg[\"context_length\"], cfg[\"emb_dim\"])\n",
    "        # dropout\n",
    "        self.drop_emb = nn.Dropout(cfg[\"drop_rate\"])\n",
    "\n",
    "        ## (2) Transformers ##\n",
    "        # 12x transformer blocks\n",
    "        self.tf_blocks = nn.Sequential(\n",
    "            *[TransformerBlock(cfg) for _ in range(cfg['n_layers'])]\n",
    "        )\n",
    "\n",
    "        ## (3) Embeddings -> Output ##\n",
    "        # layer norm\n",
    "        self.final_layer_norm = LayerNorm(cfg[\"emb_dim\"])\n",
    "\n",
    "        # linear output layer (convert back to vocab)\n",
    "        self.linear_output = nn.Linear(cfg[\"emb_dim\"], cfg[\"vocab_size\"], bias=False)\n",
    "\n",
    "    def forward(self, x):\n",
    "        batch_size, context_length = x.shape\n",
    "\n",
    "        # `tok_emb` should be initialized randomly, so we just need to do the lookup\n",
    "        tok_embedding = self.token_emb(x)\n",
    "        # `pos_emb` should be initialized based on ordered position\n",
    "        # TODO: what does it mean that we call this during the forward() step?\n",
    "        #       intuitively, I think of pos_emb as initialized at start and then updated at each step\n",
    "        pos_embedding = self.pos_emb(torch.arange(context_length, device=x.device))\n",
    "        x = tok_embedding + pos_embedding\n",
    "        x = self.drop_emb(x)\n",
    "\n",
    "\n",
    "        x = self.tf_blocks(x)\n",
    "\n",
    "        x = self.final_layer_norm(x)\n",
    "        logits = self.linear_output(x)\n",
    "\n",
    "        return logits"
   ]
  },
  {
   "cell_type": "code",
   "execution_count": 25,
   "id": "ee618762-6e1c-4b84-9a87-975c8e5ea2b0",
   "metadata": {},
   "outputs": [
    {
     "name": "stdout",
     "output_type": "stream",
     "text": [
      "Input batch:\n",
      " tensor([[6109, 3626, 6100,  345],\n",
      "        [6109, 1110, 6622,  257]])\n",
      "\n",
      "Output shape: torch.Size([2, 4, 50257])\n",
      "tensor([[[ 0.3613,  0.4223, -0.0711,  ...,  0.3483,  0.4661, -0.2838],\n",
      "         [-0.1792, -0.5660, -0.9485,  ...,  0.0477,  0.5181, -0.3168],\n",
      "         [ 0.7120,  0.0332,  0.1085,  ...,  0.1018, -0.4327, -0.2553],\n",
      "         [-1.0076,  0.3418, -0.1190,  ...,  0.7195,  0.4023,  0.0532]],\n",
      "\n",
      "        [[-0.2564,  0.0900,  0.0335,  ...,  0.2659,  0.4454, -0.6806],\n",
      "         [ 0.1230,  0.3653, -0.2074,  ...,  0.7705,  0.2710,  0.2246],\n",
      "         [ 1.0558,  1.0318, -0.2800,  ...,  0.6936,  0.3205, -0.3178],\n",
      "         [-0.1565,  0.3926,  0.3288,  ...,  1.2630, -0.1858,  0.0388]]],\n",
      "       grad_fn=<UnsafeViewBackward0>)\n"
     ]
    }
   ],
   "source": [
    "torch.manual_seed(123)\n",
    "model = GPTModel(GPT_CONFIG_124M)\n",
    "out = model(batch)\n",
    "print(\"Input batch:\\n\", batch)\n",
    "print(\"\\nOutput shape:\", out.shape)\n",
    "print(out)"
   ]
  },
  {
   "cell_type": "code",
   "execution_count": 26,
   "id": "5ddec7f9-fb60-4ca4-b3e9-3fecde9c4898",
   "metadata": {},
   "outputs": [
    {
     "name": "stdout",
     "output_type": "stream",
     "text": [
      "Total parameters: 163009536\n"
     ]
    }
   ],
   "source": [
    "total_params = sum(p.numel() for p in model.parameters())\n",
    "print(f\"Total parameters: {total_params}\")"
   ]
  },
  {
   "cell_type": "code",
   "execution_count": 27,
   "id": "dffb7bf3-3935-47c3-8ce6-ac3129e67ad7",
   "metadata": {},
   "outputs": [
    {
     "name": "stdout",
     "output_type": "stream",
     "text": [
      "Token embedding layer shape: torch.Size([50257, 768])\n",
      "Output layer shape: torch.Size([50257, 768])\n"
     ]
    }
   ],
   "source": [
    "print(\"Token embedding layer shape:\", model.token_emb.weight.shape)\n",
    "print(\"Output layer shape:\", model.linear_output.weight.shape)"
   ]
  },
  {
   "cell_type": "code",
   "execution_count": 28,
   "id": "0fe83a74-c80c-46e3-9653-71c3014498bd",
   "metadata": {},
   "outputs": [
    {
     "name": "stdout",
     "output_type": "stream",
     "text": [
      "GPT2 params = 124412160\n"
     ]
    }
   ],
   "source": [
    "total_params_gpt = total_params - sum(p.numel() for p in model.linear_output.parameters())\n",
    "print(f\"GPT2 params =\", total_params_gpt)"
   ]
  },
  {
   "cell_type": "markdown",
   "id": "cfc3fb2f-9a70-421a-ac4b-bd5fffef520d",
   "metadata": {},
   "source": [
    "**Weight Tying**\n",
    "\n",
    "Why the diference between 163M total parameters above vs 124M in the GPT model name?\n",
    "\n",
    "The original GPT-2 model re-used the same weights between the Token Embedding (Vocab -> Token Embed) and Output Layer (Token Embed -> Vocab).\n",
    "\n",
    "This is called \"Weight tying\", and it reduces the memory footprint by reducing the number of weights which are trained.\n",
    "However, it has been found to improve performance if we *don't* use weight tying, so modern models no longer use this approach.\n",
    "\n",
    "p.s. We'll revisit this concept in Ch6 when we use pretrained weights from OpenAI, since we'll want to fully reproduce their architecture."
   ]
  },
  {
   "cell_type": "markdown",
   "id": "56788bfb-cc8e-4ea4-9ad0-c4b7dc1dce75",
   "metadata": {},
   "source": [
    "_Ex 4.1: Calculate and compare the number of parameters that are contained in the feed forward module and those that are contained in the multi-head attention module._"
   ]
  },
  {
   "cell_type": "code",
   "execution_count": 29,
   "id": "afca9687-76c9-4b6e-9988-96541c3b735f",
   "metadata": {},
   "outputs": [
    {
     "name": "stdout",
     "output_type": "stream",
     "text": [
      "Feed forward module params: 4,722,432\n",
      "Multi-head attention module params: 2,360,064\n"
     ]
    }
   ],
   "source": [
    "get_param_count = lambda model: sum(p.numel() for p in model.parameters())\n",
    "\n",
    "example_tf = TransformerBlock(GPT_CONFIG_124M)\n",
    "print(f\"Feed forward module params: {get_param_count(example_tf.ff):,}\")\n",
    "print(f\"Multi-head attention module params: {get_param_count(example_tf.mha):,}\")"
   ]
  },
  {
   "cell_type": "markdown",
   "id": "f9eb0726-697c-4e85-976a-71f93f693b77",
   "metadata": {},
   "source": [
    "Let's also compute the memory requirements of the 163M parameters in our model.\n",
    "Assuming 4Kb per float..."
   ]
  },
  {
   "cell_type": "code",
   "execution_count": 30,
   "id": "cf383d3c-4197-4e07-a9d0-34458dda7b03",
   "metadata": {},
   "outputs": [
    {
     "name": "stdout",
     "output_type": "stream",
     "text": [
      "Memory footprint of 163,009,536 parameter model: 621.83 Mb\n"
     ]
    }
   ],
   "source": [
    "bytes_per_float = 4 # 32-bit float\n",
    "total_bytes = total_params * bytes_per_float\n",
    "total_mb = total_bytes / (1024 * 1024)\n",
    "print(f\"Memory footprint of {total_params:,} parameter model: {total_mb:.2f} Mb\")"
   ]
  },
  {
   "cell_type": "markdown",
   "id": "5c2ece8b-807a-48b7-8e65-d4d5f51f5794",
   "metadata": {},
   "source": [
    "_Exercise 4.2 Initializing larger GPT models_"
   ]
  },
  {
   "cell_type": "code",
   "execution_count": null,
   "id": "61281cb3-7a84-4a23-b962-32adab07d41d",
   "metadata": {},
   "outputs": [],
   "source": [
    "GPT_CONFIG_MEDIUM = {\n",
    "    \"vocab_size\": 50257,\n",
    "    \"context_length\": 1024,\n",
    "    \"emb_dim\": 1024,\n",
    "    \"n_heads\": 16, # attention heads\n",
    "    \"n_layers\": 24, # transformer layers\n",
    "    \"drop_rate\": 0.1,\n",
    "    \"qkv_bias\": False,\n",
    "}\n",
    "\n",
    "GPT_CONFIG_LARGE = {\n",
    "    \"vocab_size\": 50257,\n",
    "    \"context_length\": 1024,\n",
    "    \"emb_dim\": 1280,\n",
    "    \"n_heads\": 20, # attention heads\n",
    "    \"n_layers\": 36, # transformer layers\n",
    "    \"drop_rate\": 0.1,\n",
    "    \"qkv_bias\": False,\n",
    "}\n",
    "\n",
    "GPT_CONFIG_XLARGE = {\n",
    "    \"vocab_size\": 50257,\n",
    "    \"context_length\": 1024,\n",
    "    \"emb_dim\": 1600,\n",
    "    \"n_heads\": 25, # attention heads\n",
    "    \"n_layers\": 48, # transformer layers\n",
    "    \"drop_rate\": 0.1,\n",
    "    \"qkv_bias\": False,\n",
    "}"
   ]
  },
  {
   "cell_type": "code",
   "execution_count": 32,
   "id": "0ab991ea-886b-45a0-8afa-be5a3e9c912d",
   "metadata": {},
   "outputs": [
    {
     "name": "stdout",
     "output_type": "stream",
     "text": [
      "GPT M  param count = 406,212,608\n",
      "GPT L  param count = 838,220,800\n",
      "GPT XL param count = 1,637,792,000\n"
     ]
    }
   ],
   "source": [
    "gpt_m = GPTModel(GPT_CONFIG_MEDIUM)\n",
    "gpt_l = GPTModel(GPT_CONFIG_LARGE)\n",
    "gpt_xl = GPTModel(GPT_CONFIG_XLARGE)\n",
    "\n",
    "print(f\"GPT M  param count = {get_param_count(gpt_m):,}\")\n",
    "print(f\"GPT L  param count = {get_param_count(gpt_l):,}\")\n",
    "print(f\"GPT XL param count = {get_param_count(gpt_xl):,}\")"
   ]
  },
  {
   "cell_type": "markdown",
   "id": "2af8cdf6-bd67-46e4-b248-8907b8c5ab3b",
   "metadata": {},
   "source": [
    "### Generating text"
   ]
  },
  {
   "cell_type": "code",
   "execution_count": null,
   "id": "eece739e-ba81-4e16-bbdb-698aec466a72",
   "metadata": {},
   "outputs": [],
   "source": [
    "def generate_text_simple(model, token_ids, max_new_tokens, context_size):\n",
    "    for i in range(max_new_tokens):\n",
    "        # all samples in batch .. most-recent `<= context_size` tokens\n",
    "        x = token_ids[:, -context_size:]\n",
    "        with torch.no_grad(): # during inference, we don't need backprop\n",
    "            logits = model(x)\n",
    "\n",
    "        token = next_token_id(logits)\n",
    "        print(\"token_ids\", token_ids)\n",
    "        print(\"token_ids.shape\", token_ids.shape)\n",
    "\n",
    "        print(\"token\", token)\n",
    "        print(\"token.shape\", token.shape)\n",
    "        print(\"\")\n",
    "        token_ids = torch.cat((token_ids, token), dim=1)\n",
    "\n",
    "    return token_ids\n",
    "\n",
    "def next_token_id(batch_logits):\n",
    "    \"\"\" Given batched model output,\n",
    "        return next token's id  \"\"\"\n",
    "    # for each sample in batch, select logits for last token\n",
    "    last_token_logits = batch_logits[:, -1, :]\n",
    "\n",
    "    # softmax to get probabilities\n",
    "    probas = torch.softmax(last_token_logits, dim=-1)\n",
    "\n",
    "    # argmax to choose most likely probability\n",
    "    token_id = torch.argmax(probas, dim=-1, keepdim=True)\n",
    "    return token_id\n",
    "\n",
    "    # lookup corresponding token ID, convert to text\n",
    "    # return tokenizer.decode(token_id)"
   ]
  },
  {
   "cell_type": "code",
   "execution_count": 34,
   "id": "8254bf91-bd10-4c1c-b63c-faad96360001",
   "metadata": {},
   "outputs": [
    {
     "name": "stdout",
     "output_type": "stream",
     "text": [
      "encoded: [15496, 11, 314, 716]\n",
      "encoded_tensor.shape: torch.Size([1, 4])\n"
     ]
    }
   ],
   "source": [
    "start_context = \"Hello, I am\"\n",
    "encoded = tokenizer.encode(start_context)\n",
    "print(\"encoded:\", encoded)\n",
    "encoded_tensor = torch.tensor(encoded).unsqueeze(0) # unsqueeze adds batch dimension\n",
    "print(\"encoded_tensor.shape:\", encoded_tensor.shape)"
   ]
  },
  {
   "cell_type": "code",
   "execution_count": 35,
   "id": "1836999a-bd6f-4348-9ab7-9cb45068f512",
   "metadata": {},
   "outputs": [
    {
     "name": "stdout",
     "output_type": "stream",
     "text": [
      "token_ids tensor([[15496,    11,   314,   716]])\n",
      "token_ids.shape torch.Size([1, 4])\n",
      "token tensor([[27018]])\n",
      "token.shape torch.Size([1, 1])\n",
      "\n",
      "token_ids tensor([[15496,    11,   314,   716, 27018]])\n",
      "token_ids.shape torch.Size([1, 5])\n",
      "token tensor([[24086]])\n",
      "token.shape torch.Size([1, 1])\n",
      "\n",
      "token_ids tensor([[15496,    11,   314,   716, 27018, 24086]])\n",
      "token_ids.shape torch.Size([1, 6])\n",
      "token tensor([[47843]])\n",
      "token.shape torch.Size([1, 1])\n",
      "\n",
      "token_ids tensor([[15496,    11,   314,   716, 27018, 24086, 47843]])\n",
      "token_ids.shape torch.Size([1, 7])\n",
      "token tensor([[30961]])\n",
      "token.shape torch.Size([1, 1])\n",
      "\n",
      "token_ids tensor([[15496,    11,   314,   716, 27018, 24086, 47843, 30961]])\n",
      "token_ids.shape torch.Size([1, 8])\n",
      "token tensor([[42348]])\n",
      "token.shape torch.Size([1, 1])\n",
      "\n",
      "token_ids tensor([[15496,    11,   314,   716, 27018, 24086, 47843, 30961, 42348]])\n",
      "token_ids.shape torch.Size([1, 9])\n",
      "token tensor([[7267]])\n",
      "token.shape torch.Size([1, 1])\n",
      "\n",
      "Output: tensor([[15496,    11,   314,   716, 27018, 24086, 47843, 30961, 42348,  7267]])\n",
      "Output length: 10\n"
     ]
    }
   ],
   "source": [
    "model.eval() # disables dropout layers. allows proper inference()\n",
    "out = generate_text_simple(model, encoded_tensor, 6, GPT_CONFIG_124M[\"context_length\"])\n",
    "print(\"Output:\", out)\n",
    "print(\"Output length:\", len(out[0]))"
   ]
  },
  {
   "cell_type": "code",
   "execution_count": 36,
   "id": "21442345-8d0c-4041-b1ca-b705c7225ff0",
   "metadata": {},
   "outputs": [
    {
     "name": "stdout",
     "output_type": "stream",
     "text": [
      "Hello, I am Featureiman Byeswickattribute argue\n"
     ]
    }
   ],
   "source": [
    "decoded_text = tokenizer.decode(out.squeeze(0).tolist())\n",
    "print(decoded_text)"
   ]
  },
  {
   "cell_type": "markdown",
   "id": "1a16bd08-d41d-410d-8871-c7b9f9b18791",
   "metadata": {},
   "source": [
    "The output isn't meaningful because we haven't trained the model! \n",
    "So that's our next task in Ch 5.\n"
   ]
  },
  {
   "cell_type": "markdown",
   "id": "633c82dd-c420-4d27-8976-a103987d5b69",
   "metadata": {},
   "source": [
    "_Exercise 4.3 Using separate dropout parameters_\n",
    "\n",
    "-> Skipping, since seems straightforward via refactoring config and how it gets passed to model components. If we plan to use it later, can do so."
   ]
  }
 ],
 "metadata": {
  "kernelspec": {
   "display_name": "Python 3 (ipykernel)",
   "language": "python",
   "name": "python3"
  },
  "language_info": {
   "codemirror_mode": {
    "name": "ipython",
    "version": 3
   },
   "file_extension": ".py",
   "mimetype": "text/x-python",
   "name": "python",
   "nbconvert_exporter": "python",
   "pygments_lexer": "ipython3",
   "version": "3.10.15"
  }
 },
 "nbformat": 4,
 "nbformat_minor": 5
}
